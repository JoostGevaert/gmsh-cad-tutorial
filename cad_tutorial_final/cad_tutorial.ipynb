{
 "cells": [
  {
   "cell_type": "markdown",
   "metadata": {},
   "source": [
    "## CAD Tutorial \n",
    "\n",
    "In this tutorial you will learn how to create a geometry in [FreeCAD](https://www.freecadweb.org/) and then export and mesh it using [Gmsh](http://gmsh.info/). \n",
    "\n",
    "Gmsh provides a build-in CAD engine for defining a geometry, as shown in the tutorial on \"flexible mesh generation with Gmsh\", but using a parametric CAD program such as FreeCAD is much more intuitive and flexible, especially for 3D geometries.\n",
    "\n",
    "Install FreeCAD and Gmsh into your conda environment by running:\n",
    "conda.yaml???\n",
    "\n",
    "This tutorial is based on an ERT modeling and inversion example on a small dike. However, this FreeCAD → Gmsh workflow can easily be translated to other geophysical methods. The geometry and acquisition design come from the IDEA League [master thesis](https://repository.tudelft.nl/islandora/object/uuid%3A9bf85910-4939-4159-968b-ef558a6ecb7c) of Joost Gevaert. The target in this example is to find the geometry of a sand channel underneath the dike."
   ]
  },
  {
   "cell_type": "markdown",
   "metadata": {},
   "source": [
    "### FreeCAD: create the geometry\n",
    "\n",
    "Two geometries have to be created. One for modeling and one for inversion. When the same meshes are used for modeling and inversion, the geometry of the sand channel is alreadyincluded in the structure of the mesh. Therefore, the mesh itself would act as prior information\n",
    "to the inversion. The modeling geometry consists of 3 regions: (1) the outer region; (2) the inner\n",
    "region (same as inversion region in this example) and (3) the sand channel. The inversion geometry consists of 2 regions: (1) the outer region and (2) the inversion region. \n",
    "\n",
    "The geometries are defined in three steps:\n",
    "1. Each region of the geometry designed separately in the Part workbench, or in the Part Design workbench for more complicated geometries. To get familiar with the part design workbench, this [FreeCAD-tutorial](https://wiki.freecadweb.org/Basic_Part_Design_Tutorial_017) with some videos is great. \n",
    "2. Merge all regions into one single ”compsolid”, i.e.composite solid. Meaning one object that consists of multiple solids that share the interfaces between the solids.\n",
    "3. Export the geometry in `.brep` format.[<sup>1</sup>](#fn1)\n",
    "\n",
    "(1) The outer and inversion regions of this dike example were created in the Part Design workbench, by making a sketch and then extruding it with the Pad option. See the Inversion-Region in the object tree in the figure below, or the `outer_region.FCStd` and `inversion_region.FCStd` FreeCAD files, ATTACHED!!!. The sand channel is a simple cube, created in the Part workbench. Dimensions: L = 8.0 m ; W = 15.0 m ; H = 2.0 m. Position: x = 7.5 m ; y = -1.5 m ; z = -2.3 m.\n",
    "\n",
    "(2) The trick then lies in merging these shapes into a single compsolid. This is done in the following steps:\n",
    "\n",
    "1. Open a new project and merge all objects, i.e. regions (File → Merge project...) into this project\n",
    "2. In the Part workbench, select all objects and create Boolean Fragments (Part → Split → Boolean Fragments)\n",
    "3. Select the newly created BooleanFragments in the object tree and change its Mode property to CompSolid, see the figure below.\n",
    "4. Keep BooleanFragments selected and then apply a Compound Filter to it (Part → Compound → Compound Filter)\n",
    "5. Quality check the obtained geometry.  \n",
    "   Select the newly created CompoundFilter from the object tree and click Check Geometry (Part → Check Geometry).  \n",
    "   SOLID: in the Shape Content, should match the number of objects merged when creating the Boolean Fragments, 3 in this example. \n",
    "   COMPSOLID: should be 1. Always, also for other geometries.  \n",
    "   COMPOUND: should be 0. Always.  \n",
    "   COMPSOLID: 1 and COMPOUND: 0 indicates that the objects were indeed merged correctly to one single compsolid, see the figure below.\n",
    "\n",
    "(3) Select the CompounSolid from the object tree and export (File → Export...) as .brep.\n",
    "\n",
    "![freecad_fig](./freecad_fig.png)\n",
    "\n",
    "<span id=\"fn1\"> <sup>1</sup></span> It must be `.brep`. This is the native format of the OpenCascade CAD engine on which both FreeCAD and Gmsh run. `.step` (also `.stp`) is the standardized CAD exchange format, for some reason this format does not export the shape as a compound solid. Gmsh can also read `.stl` and `.iges` files. `.stl` files only contain surface information and cannot easily be reedited. `.iges` is an old format for which development stopped after 1996 and geometries are not always imported correctly."
   ]
  },
  {
   "cell_type": "markdown",
   "metadata": {},
   "source": [
    "### Gmsh: mesh the geometry\n",
    "\n",
    "Meshing with Gmsh is incredibly versatile, but has a very steep learning curve. Here we use the Python Application Programming Interface (API). To get familiar with the Python API, the Gmsh [tutorials][tuts] ([overview][t_overview]) were converted to [Python scripts][t_api] and additional [demos][api_demo] are also provided. I will mention or provide links to relevant tutorials and demos, have a look at these for extra context.\n",
    "\n",
    "Let's start by importing our geometry into Gmsh:\n",
    "\n",
    "[tuts]: https://gitlab.onelab.info/gmsh/gmsh/-/tree/master/tutorial\n",
    "[t_overview]: http://www.cfdyna.com/Home/gmshCatalogue.html\n",
    "[t_api]: https://gitlab.onelab.info/gmsh/gmsh/-/tree/master/tutorial/python\n",
    "[t1]: https://gitlab.onelab.info/gmsh/gmsh/-/blob/master/tutorial/python/t1.py\n",
    "[api_demo]: https://gitlab.onelab.info/gmsh/gmsh/-/tree/master/demos/api"
   ]
  },
  {
   "cell_type": "code",
   "execution_count": 1,
   "metadata": {},
   "outputs": [],
   "source": [
    "import pandas as pd\n",
    "import gmsh\n",
    "import pygimli as pg\n",
    "\n",
    "# Starting it up (tutorial t1.py)\n",
    "gmsh.initialize()\n",
    "gmsh.option.setNumber(\"General.Terminal\", 1)\n",
    "gmsh.model.add(\"dike_mod\")\n",
    "# Load a BREP file (t20.py & demo step_assembly.py)\n",
    "# .brep files don't contain info about units, so scaling has to be applied\n",
    "gmsh.option.setNumber(\"Geometry.OCCScaling\", 0.001)\n",
    "volumes = gmsh.model.occ.importShapes(\"./dike_mod.brep\")"
   ]
  },
  {
   "cell_type": "markdown",
   "metadata": {},
   "source": [
    "Before diving into local mesh refinement, putting the electrodes in the mesh and assigning region, boundary and electrode markers, the .brep geometry file should be checked. Especially check whether the meshes of two adjacent regions share nodes on their interfaces. Tips for viewing the mesh:\n",
    "\n",
    "1. Double left clicking opens a menu in where you can set geometry and mesh visibility.\n",
    "2. Tools → Visibility opens a window in which you can select parts of the mesh and geometry. Here you can find the tags of the elementary entities of the geometry. It is also handy later to QC whether physical groups were set correctly.\n",
    "3. Clip the mesh and geometry with Tools → Clipping.\n",
    "4. The number of elements ect. can be found in the Tools → Statistics window.\n",
    "\n",
    "Make sure to quickly write down the Gmsh volume tags of the outer region, dike and channel and the surface tags of the free surface and the underground boundary of the box. You will need this in the next step."
   ]
  },
  {
   "cell_type": "code",
   "execution_count": null,
   "metadata": {},
   "outputs": [],
   "source": [
    "# Generate the mesh and run Gmsh after changing the Gmsh geometry\n",
    "# So take this code block along (down arrow) as you do the tutorial\n",
    "gmsh.model.occ.synchronize()\n",
    "gmsh.model.mesh.generate(3)\n",
    "gmsh.fltk.run()\n",
    "gmsh.finalize()"
   ]
  },
  {
   "cell_type": "markdown",
   "metadata": {},
   "source": [
    "If importing and meshing the .brep geometry went correctly, great! Next we include the electrodes (from Excel file) into the geometry and define the Characteristic Length (CL) for each region and the electrodes. The CL is defined at each Point and dictates the mesh size at that point. The mesh size between points is interpolated linearly, by default."
   ]
  },
  {
   "cell_type": "code",
   "execution_count": 2,
   "metadata": {},
   "outputs": [],
   "source": [
    "cl_elec = 0.1\n",
    "cl_dike = 0.6\n",
    "cl_outer = 30\n",
    "# Gmsh geometry tags of relevant parts. Find the tags in the Gmsh interface.\n",
    "tags = {\"outer region\": 2,\n",
    "    \"dike\": 3,\n",
    "    \"channel\": 1,\n",
    "    \"surface\": [7, 11, 12, 13, 21, 23, 24, \n",
    "                25, 27, 29, 30, 31],\n",
    "    \"boundary\": [8, 14, 15, 16, 20],      # \"Underground Box Boundary\"\n",
    "    \"electrodes\": []}\n",
    "# Syncronize CAD representation with the Gmsh model (t1.py)\n",
    "# Otherwise gmsh.model.get* methods don't work.\n",
    "gmsh.model.occ.synchronize()\n",
    "# Set mesh sizes for the dike and outer region.\n",
    "# The order, in which mesh sizes are set, matters. Big -> Small \n",
    "gmsh.model.mesh.setSize(            # Especially t16.py, also t2; 15; 18; 21\n",
    "    gmsh.model.getBoundary(         # get dimTags of boundary elements of\n",
    "        (3, tags[\"outer region\"]),  # dimTag: (dim, tag)\n",
    "        recursive=True),            # recursive -> dimTags of points\n",
    "    cl_outer)\n",
    "gmsh.model.mesh.setSize(\n",
    "    gmsh.model.getBoundary((3, tags[\"dike\"]),recursive=True),\n",
    "    cl_dike)"
   ]
  },
  {
   "cell_type": "markdown",
   "metadata": {},
   "source": [
    "Now reload the script, mesh the geometry again and have a look how the mesh changed. The next step is adding the electrodes to the mesh. The grid on the dike has 152 electrodes. These points are added in Gmsh as points 201-352, to prevent clashing with points already defined in the geometry."
   ]
  },
  {
   "cell_type": "code",
   "execution_count": 3,
   "metadata": {},
   "outputs": [],
   "source": [
    "# Electrodes are put at 2 cm depth, such that they can be embeded in the volume of the dike.\n",
    "# Embeding the electrodes into the surface elements complicates meshing.\n",
    "elec_depth = 0.02               # elec depth [m]\n",
    "pos = pd.read_csv(\"elec_pos.csv\")\n",
    "pos[\"z\"] = pos[\"z\"] - elec_depth\n",
    "# Add the electrodes to the Gmsh model and put the tags into the Dict\n",
    "for i, xyz in pos.iterrows():\n",
    "    tag = int(200 + xyz[\"elec #\"])\n",
    "    gmsh.model.occ.addPoint(xyz[\"x\"], xyz[\"y\"], xyz[\"z\"], cl_elec, tag)\n",
    "    tags[\"electrodes\"].append(tag)\n",
    "# Embed electrodes in dike volume. (t15.py)\n",
    "gmsh.model.occ.synchronize()\n",
    "gmsh.model.mesh.embed(0, tags[\"electrodes\"], 3, tags[\"dike\"])"
   ]
  },
  {
   "cell_type": "markdown",
   "metadata": {},
   "source": [
    "Reload the Gmsh script and mesh it again to see the result. Further mesh refinement is then possible with so-called background fields. Taking a quick look at Gmsh tutorial [t10.geo](https://gitlab.onelab.info/gmsh/gmsh/-/blob/master/tutorial/python/t10.py) is highly recommended. It shows a wide range of possible background fields. In this example a Distance field is defined from the electrodes and then a Threshold field is applied as the background field:"
   ]
  },
  {
   "cell_type": "code",
   "execution_count": 4,
   "metadata": {},
   "outputs": [],
   "source": [
    "# LcMax -                         /------------------\n",
    "#                               /\n",
    "#                             /\n",
    "#                           /\n",
    "# LcMin -o----------------/\n",
    "#        |                |       |\n",
    "#      Point           DistMin DistMax\n",
    "# Field 1: Distance to electrodes\n",
    "gmsh.model.mesh.field.add(\"Distance\", 1)\n",
    "gmsh.model.mesh.field.setNumbers(1, \"NodesList\", tags[\"electrodes\"])\n",
    "# Field 2: Threshold that dictates the mesh size of the background field\n",
    "gmsh.model.mesh.field.add(\"Threshold\", 2)\n",
    "gmsh.model.mesh.field.setNumber(2, \"IField\", 1)\n",
    "gmsh.model.mesh.field.setNumber(2, \"LcMin\", cl_elec)\n",
    "gmsh.model.mesh.field.setNumber(2, \"LcMax\", cl_dike)\n",
    "gmsh.model.mesh.field.setNumber(2, \"DistMin\", 0.2)\n",
    "gmsh.model.mesh.field.setNumber(2, \"DistMax\", 1.5)\n",
    "gmsh.model.mesh.field.setNumber(2, \"StopAtDistMax\", 1)\n",
    "gmsh.model.mesh.field.setAsBackgroundMesh(2)"
   ]
  },
  {
   "cell_type": "markdown",
   "metadata": {},
   "source": [
    "Again reload the Gmsh script and mesh it, to see the result. As the last step in creating the mesh, the physical groups have to be defined, such PyGIMLi recognize regions, boundaries and the electrodes, see `help(pg.meshtools.readGmsh)`. Make sure to follow the same Physical Group tag number conventions for marking the regions, surfaces and points as used in PyGIMLi."
   ]
  },
  {
   "cell_type": "code",
   "execution_count": 5,
   "metadata": {},
   "outputs": [],
   "source": [
    "# Physical Volumes, \"Regions\" in pyGIMLi\n",
    "pgrp = gmsh.model.addPhysicalGroup(3, [tags[\"outer region\"]], 1)  #(dim, tag, pgrp tag)\n",
    "gmsh.model.setPhysicalName(3, pgrp, \"Outer Region\")     # Physical group name in Gmsh\n",
    "pgrp = gmsh.model.addPhysicalGroup(3, [tags[\"dike\"]], 2)\n",
    "gmsh.model.setPhysicalName(3, pgrp, \"Dike\")\n",
    "pgrp = gmsh.model.addPhysicalGroup(3, [tags[\"channel\"]], 3)\n",
    "gmsh.model.setPhysicalName(3, pgrp, \"Channel\")\n",
    "# Physical Surfaces, \"Boundaries\" in pyGIMLi,\n",
    "# pgrp tag = 1 --> Free Surface | pgrp tag > 1 --> Mixed BC\n",
    "pgrp = gmsh.model.addPhysicalGroup(2, tags[\"surface\"], 1)\n",
    "gmsh.model.setPhysicalName(2, pgrp, \"Surface\")\n",
    "pgrp = gmsh.model.addPhysicalGroup(2, tags[\"boundary\"], 2)\n",
    "gmsh.model.setPhysicalName(2, pgrp, \"Underground Boundary\")\n",
    "# Physical Points, \"Electrodes / Sensors\" in pyGIMLi, pgrp tag 99\n",
    "pgrp = gmsh.model.addPhysicalGroup(0, tags[\"electrodes\"], 99)\n",
    "gmsh.model.setPhysicalName(0, pgrp, \"Electrodes\")"
   ]
  },
  {
   "cell_type": "code",
   "execution_count": 6,
   "metadata": {},
   "outputs": [],
   "source": [
    "gmsh.model.occ.synchronize()\n",
    "gmsh.model.mesh.generate(3)\n",
    "gmsh.write(\"dike_mod.msh\")"
   ]
  },
  {
   "cell_type": "markdown",
   "metadata": {},
   "source": [
    "The final mesh should look something like the figure below. Check whether the Physical Groups are defined correctly using the Visibility window as shown in the figure. Finally make the inversion mesh in the same way as the modeling mesh. The differences being that (a) there should be no sand channel in the geometry of the inversion mesh. Meaning that there are also only 2 volumes: the outer region and the dike, i.e. inversion region. And (b) that the mesh does not have to be as fine. cl elec = 0.25 and cl dike = 1.2 were used for the inversion mesh in the attached .msh file. Besides changing the mesh size by playing around with the CL, the general mesh size can also be adapted in Gmsh by changing the Global mesh size factor (double left click).\n",
    "\n",
    "![gmsh_fig](./gmsh_fig.png)"
   ]
  },
  {
   "cell_type": "markdown",
   "metadata": {},
   "source": [
    "### PyGIMLi ERT modeling and inversion\n",
    "\n",
    "I think this would be very useful, but at the moment it does not work."
   ]
  },
  {
   "cell_type": "markdown",
   "metadata": {},
   "source": [
    "### Additional very useful material\n",
    "\n",
    "* [Meshing terrain from a .STL file with Gmsh](https://gitlab.onelab.info/gmsh/gmsh/-/blob/master/demos/api/terrain_stl.py)\n",
    "* [Meshing with Gmsh from QGIS](https://github.com/ccorail/qgis-gmsh/wiki)\n",
    "* [FreeCAD GeoMatics workbench](https://github.com/HakanSeven12/FreeCAD-Geomatics-Workbench) ([replaces GeoData workbench](https://forum.freecadweb.org/viewtopic.php?f=8&t=37178&hilit=geodata#p316040)) allows for GPS, LiDAR and GIS data to be imported to FreeCAD\n"
   ]
  }
 ],
 "metadata": {
  "kernelspec": {
   "display_name": "Python 3",
   "language": "python",
   "name": "python3"
  },
  "language_info": {
   "codemirror_mode": {
    "name": "ipython",
    "version": 3
   },
   "file_extension": ".py",
   "mimetype": "text/x-python",
   "name": "python",
   "nbconvert_exporter": "python",
   "pygments_lexer": "ipython3",
   "version": "3.7.6"
  }
 },
 "nbformat": 4,
 "nbformat_minor": 4
}
